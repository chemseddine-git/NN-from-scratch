{
 "cells": [
  {
   "cell_type": "code",
   "execution_count": 1,
   "metadata": {},
   "outputs": [],
   "source": [
    "import torch\n",
    "import numpy as np\n",
    "import torch.nn as nn\n",
    "import torch.nn.functional as F\n",
    "from torch import optim\n",
    "import matplotlib.pyplot as plt\n",
    "from torchvision import datasets, transforms"
   ]
  },
  {
   "cell_type": "code",
   "execution_count": 2,
   "metadata": {},
   "outputs": [
    {
     "name": "stdout",
     "output_type": "stream",
     "text": [
      "<class 'torch.Tensor'>\n",
      "torch.Size([64, 1, 28, 28])\n",
      "torch.Size([64])\n"
     ]
    }
   ],
   "source": [
    "transform = transforms.Compose([transforms.ToTensor(),\n",
    "                                transforms.Normalize(mean=0.5, std=0.5),\n",
    "                              ])\n",
    "\n",
    "trainset = datasets.FashionMNIST('F_MNIST_data/', download=True, train=True, transform=transform)\n",
    "trainloader = torch.utils.data.DataLoader(trainset, batch_size=64, shuffle=True)\n",
    "\n",
    "testset = datasets.FashionMNIST('F_MNIST_data/', download=True, train=False, transform=transform)\n",
    "testloader = torch.utils.data.DataLoader(testset, batch_size=64, shuffle=True)\n",
    "\n",
    "for images, labels in trainloader:\n",
    "    print(type(images))\n",
    "    print(images.shape)\n",
    "    print(labels.shape)\n",
    "    break"
   ]
  },
  {
   "cell_type": "code",
   "execution_count": 19,
   "metadata": {},
   "outputs": [],
   "source": [
    "model =  nn.Sequential(nn.Dropout(p=0.2),\n",
    "                       nn.Linear(784, 512),\n",
    "                       nn.ReLU(),\n",
    "                       nn.Dropout(p=0.2),\n",
    "                       nn.Linear(512, 128),\n",
    "                       nn.ReLU(),\n",
    "                       nn.Dropout(p=0.2),\n",
    "                       nn.Linear(128, 64),\n",
    "                       nn.ReLU(),\n",
    "                       nn.Linear(64,10),\n",
    "                       nn.LogSoftmax(dim=1))\n",
    "\n"
   ]
  },
  {
   "cell_type": "code",
   "execution_count": 20,
   "metadata": {},
   "outputs": [],
   "source": [
    "criterion = nn.CrossEntropyLoss()"
   ]
  },
  {
   "cell_type": "code",
   "execution_count": 21,
   "metadata": {},
   "outputs": [],
   "source": [
    "optimizer = optim.Adam(model.parameters(), lr=0.01)"
   ]
  },
  {
   "cell_type": "code",
   "execution_count": 22,
   "metadata": {},
   "outputs": [],
   "source": [
    "epochs=10"
   ]
  },
  {
   "cell_type": "code",
   "execution_count": 23,
   "metadata": {},
   "outputs": [
    {
     "name": "stdout",
     "output_type": "stream",
     "text": [
      "epoch: 1\n",
      "training loss: 0.7368495595861854\n",
      "test loss: 4.402324120330203\n",
      "epoch: 2\n",
      "training loss: 0.6340676622350079\n",
      "test loss: 3.7882513832894102\n",
      "epoch: 3\n",
      "training loss: 0.6251042876352888\n",
      "test loss: 3.7346995019229356\n",
      "epoch: 4\n",
      "training loss: 0.610044516289412\n",
      "test loss: 3.6447245622896087\n",
      "epoch: 5\n",
      "training loss: 0.6192995879505234\n",
      "test loss: 3.7000191942521723\n",
      "epoch: 6\n",
      "training loss: 0.5982678544673838\n",
      "test loss: 3.5743646336968538\n",
      "epoch: 7\n",
      "training loss: 0.6055300525510743\n",
      "test loss: 3.6177527980439983\n",
      "epoch: 8\n",
      "training loss: 0.5853435427490582\n",
      "test loss: 3.4971480452141184\n",
      "epoch: 9\n",
      "training loss: 0.5870658700336525\n",
      "test loss: 3.5074381279717586\n",
      "epoch: 10\n",
      "training loss: 0.6034965489242377\n",
      "test loss: 3.605603585292579\n"
     ]
    }
   ],
   "source": [
    "train_losses = []\n",
    "test_losses = []\n",
    "\n",
    "for e in range(epochs):\n",
    "    running_loss = 0\n",
    "    for images, labels in trainloader:\n",
    "        images = images.view(images.shape[0], -1)\n",
    "        optimizer.zero_grad()\n",
    "        output = model.forward(images)\n",
    "        loss = criterion(output, labels)\n",
    "        loss.backward()\n",
    "        optimizer.step()\n",
    "        running_loss += loss.item()\n",
    "    test_loss = 0\n",
    "    accuracy = 0\n",
    "    with torch.no_grad():\n",
    "        for test_images, test_labels in testloader:\n",
    "            test_images = test_images.view(test_images.shape[0], -1)\n",
    "            test_output = model.forward(test_images)\n",
    "            test_loss = criterion(test_output, test_labels)\n",
    "               \n",
    "            proba = torch.exp(test_output)\n",
    "#            top_proba, top_class = proba.topk(1, dim=1)\n",
    "#            okclass = top_class == labels.view(*top_class.shape)\n",
    "#            accuracy += torch.mean(equals.type(okclass.type(torch.FloatTensor)))\n",
    "    train_losses.append(running_loss/len(trainloader))\n",
    "    test_losses.append(test_loss/len(testloader))\n",
    "    print(f\"epoch: {e+1}\")\n",
    "    print(f\"training loss: {running_loss/len(trainloader)}\")       \n",
    "    print(f\"test loss: {running_loss/len(testloader)}\")\n",
    "#    print(f\"test accuracy: {accuracy/len(testloader)}\")\n"
   ]
  },
  {
   "cell_type": "code",
   "execution_count": null,
   "metadata": {},
   "outputs": [],
   "source": [
    "\n",
    "%matplotlib inline\n",
    "%config InlineBackend.figure_format = 'retina'\n",
    "\n",
    "plt.plot(train_losses, label='train loss')\n",
    "plt.plot(test_losses, label='validation loss')\n",
    "plt.legend(framon=False)\n",
    "plt.legend(framon=True)"
   ]
  },
  {
   "cell_type": "code",
   "execution_count": null,
   "metadata": {},
   "outputs": [],
   "source": []
  }
 ],
 "metadata": {
  "kernelspec": {
   "display_name": "Python 3",
   "language": "python",
   "name": "python3"
  },
  "language_info": {
   "codemirror_mode": {
    "name": "ipython",
    "version": 3
   },
   "file_extension": ".py",
   "mimetype": "text/x-python",
   "name": "python",
   "nbconvert_exporter": "python",
   "pygments_lexer": "ipython3",
   "version": "3.7.6"
  }
 },
 "nbformat": 4,
 "nbformat_minor": 4
}

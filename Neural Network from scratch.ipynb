{
 "cells": [
  {
   "cell_type": "code",
   "execution_count": null,
   "metadata": {},
   "outputs": [],
   "source": [
    "import numpy as np"
   ]
  },
  {
   "cell_type": "code",
   "execution_count": null,
   "metadata": {},
   "outputs": [],
   "source": [
    "def activation_function(x, function='sigmoid'):\n",
    "    if function  == 'sigmoid':\n",
    "        x = 1 / (1 + np.exp(-x))\n",
    "    elif function == 'step':\n",
    "        x = 1 if x >= 0 else 0\n",
    "    elif function == 'softmax':\n",
    "        x = np.exp(x)\n",
    "        x = np.divide (x, x.sum())\n",
    "    return x\n",
    "        "
   ]
  },
  {
   "cell_type": "code",
   "execution_count": null,
   "metadata": {},
   "outputs": [],
   "source": [
    "def calc_score(X, W, b):\n",
    "    score = np.matmul(X,W) + b\n",
    "    return score\n"
   ]
  },
  {
   "cell_type": "code",
   "execution_count": null,
   "metadata": {},
   "outputs": [],
   "source": [
    "def perceptronStep(X, y, W, b, learn_rate = 0.01):\n",
    "    for i in range(len(X)):\n",
    "        if calc_score(X[i], W, b) != y[i]:\n",
    "            if calc_score(X[i], W, b)  == 0 :\n",
    "                for j in range(len(X[i])):\n",
    "                    W[j] = W[j] + learn_rate*X[i][j]\n",
    "                b = b + learn_rate\n",
    "            else:\n",
    "                for j in range(len(X[i])):\n",
    "                    W[j] = W[j] - learn_rate*X[i][j]\n",
    "                b = b - learn_rate\n",
    "    return W, b"
   ]
  },
  {
   "cell_type": "code",
   "execution_count": null,
   "metadata": {},
   "outputs": [],
   "source": [
    "def error(y, p, formula = 'cross_entropy'):\n",
    "    if formula == 'cross_entropy':\n",
    "        y = np.float_(y)\n",
    "        p = np.float_(p)\n",
    "        error = -np.sum(y * np.log(p) + (1 - y) * np.log(1 - p))\n",
    "    return error"
   ]
  },
  {
   "cell_type": "code",
   "execution_count": null,
   "metadata": {},
   "outputs": [],
   "source": [
    "def training(X, y, learn_rate = 0.01, num_epochs = 10):\n",
    "    for i in range(num_epochs):\n",
    "        W, b = perceptronStep(X, y, W, b, learn_rate)\n",
    "        history = []\n",
    "        history.append(W, b)\n",
    "    return history"
   ]
  },
  {
   "cell_type": "code",
   "execution_count": null,
   "metadata": {},
   "outputs": [],
   "source": [
    "print (history)"
   ]
  },
  {
   "cell_type": "code",
   "execution_count": null,
   "metadata": {},
   "outputs": [],
   "source": [
    "#example\n",
    "history = []\n",
    "X = ([][][])"
   ]
  },
  {
   "cell_type": "code",
   "execution_count": null,
   "metadata": {},
   "outputs": [],
   "source": []
  }
 ],
 "metadata": {
  "kernelspec": {
   "display_name": "Python 3",
   "language": "python",
   "name": "python3"
  },
  "language_info": {
   "codemirror_mode": {
    "name": "ipython",
    "version": 3
   },
   "file_extension": ".py",
   "mimetype": "text/x-python",
   "name": "python",
   "nbconvert_exporter": "python",
   "pygments_lexer": "ipython3",
   "version": "3.7.6"
  }
 },
 "nbformat": 4,
 "nbformat_minor": 4
}

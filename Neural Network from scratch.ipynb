{
 "cells": [
  {
   "cell_type": "code",
   "execution_count": 1,
   "metadata": {},
   "outputs": [],
   "source": [
    "%matplotlib inline\n",
    "%config InlineBackend.figure_format = 'retina'\n",
    "\n",
    "import torch\n",
    "import numpy as np\n",
    "import torch.nn as nn\n",
    "import torch.nn.functional as F\n",
    "from torch import optim\n",
    "import matplotlib.pyplot as plt\n",
    "from torchvision import datasets, transforms"
   ]
  },
  {
   "cell_type": "code",
   "execution_count": 2,
   "metadata": {},
   "outputs": [
    {
     "name": "stdout",
     "output_type": "stream",
     "text": [
      "<class 'torch.Tensor'>\n",
      "torch.Size([64, 1, 28, 28])\n",
      "torch.Size([64])\n"
     ]
    }
   ],
   "source": [
    "transform = transforms.Compose([transforms.ToTensor(),\n",
    "                                transforms.Normalize(mean=0.5, std=0.5),\n",
    "                              ])\n",
    "\n",
    "trainset = datasets.FashionMNIST('F_MNIST_data/', download=True, train=True, transform=transform)\n",
    "trainloader = torch.utils.data.DataLoader(trainset, batch_size=64, shuffle=True)\n",
    "\n",
    "testset = datasets.FashionMNIST('F_MNIST_data/', download=True, train=False, transform=transform)\n",
    "testloader = torch.utils.data.DataLoader(testset, batch_size=64, shuffle=True)\n",
    "\n",
    "for images, labels in trainloader:\n",
    "    print(type(images))\n",
    "    print(images.shape)\n",
    "    print(labels.shape)\n",
    "    break"
   ]
  },
  {
   "cell_type": "code",
   "execution_count": 3,
   "metadata": {},
   "outputs": [],
   "source": [
    "model =  nn.Sequential(nn.Linear(784, 128),\n",
    "                       nn.ReLU(),\n",
    "                       nn.Linear(128, 64),\n",
    "                       nn.ReLU(),\n",
    "                       nn.Linear(64,10),\n",
    "                       nn.LogSoftmax(dim=1))\n",
    "\n"
   ]
  },
  {
   "cell_type": "code",
   "execution_count": 4,
   "metadata": {},
   "outputs": [],
   "source": [
    "criterion = nn.CrossEntropyLoss()"
   ]
  },
  {
   "cell_type": "code",
   "execution_count": 5,
   "metadata": {},
   "outputs": [],
   "source": [
    "optimizer = optim.Adam(model.parameters(), lr=0.01)"
   ]
  },
  {
   "cell_type": "code",
   "execution_count": 6,
   "metadata": {},
   "outputs": [],
   "source": [
    "epochs=10"
   ]
  },
  {
   "cell_type": "code",
   "execution_count": null,
   "metadata": {},
   "outputs": [
    {
     "name": "stdout",
     "output_type": "stream",
     "text": [
      "training loss: 0.3938910943914705\n",
      "test loss: 2.353311124453499\n",
      "training loss: 0.3907830980953886\n",
      "test loss: 2.334742331296016\n",
      "training loss: 0.37923836605603506\n",
      "test loss: 2.2657680723602605\n",
      "training loss: 0.3799708918340679\n",
      "test loss: 2.2701445639513103\n",
      "training loss: 0.3739173856657197\n",
      "test loss: 2.2339777563977394\n",
      "training loss: 0.3763555570293083\n",
      "test loss: 2.248544665563638\n",
      "training loss: 0.37031335913455055\n",
      "test loss: 2.2124454195427288\n",
      "training loss: 0.3638319169232713\n",
      "test loss: 2.173721898560691\n"
     ]
    }
   ],
   "source": [
    "for e in range(epochs):\n",
    "    running_loss = 0\n",
    "    for images, labels in trainloader:\n",
    "        images = images.view(images.shape[0], -1)\n",
    "        optimizer.zero_grad()\n",
    "        output = model.forward(images)\n",
    "        loss = criterion(output, labels)\n",
    "        loss.backward()\n",
    "        optimizer.step()\n",
    "        running_loss += loss.item()\n",
    "    else :\n",
    "        test_loss = 0\n",
    "        accuracy = 0\n",
    "        with torch.no_grad():\n",
    "            for test_images, test_labels in testloader:\n",
    "                test_images = test_images.view(test_images.shape[0], -1)\n",
    "                test_output = model.forward(test_images)\n",
    "                test_loss = criterion(test_output, test_labels)\n",
    "                   \n",
    "                proba = torch.exp(test_output)\n",
    "                top_p, top_class = proba.topk(1, dim=1)\n",
    "            print(f\"training loss: {running_loss/len(trainloader)}\")       \n",
    "            print(f\"test loss: {running_loss/len(testloader)}\")\n"
   ]
  },
  {
   "cell_type": "code",
   "execution_count": null,
   "metadata": {},
   "outputs": [],
   "source": [
    "\n",
    "images = images.view(images.shape[0], -1)\n",
    "images,labels = next(iter(testloader))\n",
    "ps = torch.exp(model(images))\n",
    "print (ps.shape)"
   ]
  },
  {
   "cell_type": "code",
   "execution_count": null,
   "metadata": {},
   "outputs": [],
   "source": []
  }
 ],
 "metadata": {
  "kernelspec": {
   "display_name": "Python 3",
   "language": "python",
   "name": "python3"
  },
  "language_info": {
   "codemirror_mode": {
    "name": "ipython",
    "version": 3
   },
   "file_extension": ".py",
   "mimetype": "text/x-python",
   "name": "python",
   "nbconvert_exporter": "python",
   "pygments_lexer": "ipython3",
   "version": "3.7.6"
  }
 },
 "nbformat": 4,
 "nbformat_minor": 4
}
